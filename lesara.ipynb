{
 "cells": [
  {
   "cell_type": "code",
   "execution_count": 1,
   "metadata": {},
   "outputs": [],
   "source": [
    "import dill\n",
    "import pandas as pd\n",
    "import numpy"
   ]
  },
  {
   "cell_type": "code",
   "execution_count": 2,
   "metadata": {},
   "outputs": [],
   "source": [
    "df=pd.read_csv(\"orders.csv\", \n",
    "               parse_dates=[5],\n",
    "              )"
   ]
  },
  {
   "cell_type": "code",
   "execution_count": 3,
   "metadata": {},
   "outputs": [
    {
     "data": {
      "text/plain": [
       "(621212, 6)"
      ]
     },
     "execution_count": 3,
     "metadata": {},
     "output_type": "execute_result"
    }
   ],
   "source": [
    "df.shape"
   ]
  },
  {
   "cell_type": "code",
   "execution_count": 4,
   "metadata": {},
   "outputs": [],
   "source": [
    "df=df.dropna()"
   ]
  },
  {
   "cell_type": "code",
   "execution_count": 5,
   "metadata": {},
   "outputs": [
    {
     "data": {
      "text/plain": [
       "(621211, 6)"
      ]
     },
     "execution_count": 5,
     "metadata": {},
     "output_type": "execute_result"
    }
   ],
   "source": [
    "df.shape"
   ]
  },
  {
   "cell_type": "code",
   "execution_count": 6,
   "metadata": {},
   "outputs": [],
   "source": [
    "df[[\"order_item_id\", \"num_items\"]] = df[[\"order_item_id\", \"num_items\"]].astype(int)"
   ]
  },
  {
   "cell_type": "code",
   "execution_count": 7,
   "metadata": {},
   "outputs": [
    {
     "data": {
      "text/plain": [
       "customer_id                object\n",
       "order_id                    int64\n",
       "order_item_id               int32\n",
       "num_items                   int32\n",
       "revenue                   float64\n",
       "created_at_date    datetime64[ns]\n",
       "dtype: object"
      ]
     },
     "execution_count": 7,
     "metadata": {},
     "output_type": "execute_result"
    }
   ],
   "source": [
    "df.dtypes"
   ]
  },
  {
   "cell_type": "code",
   "execution_count": 8,
   "metadata": {},
   "outputs": [
    {
     "data": {
      "text/html": [
       "<div>\n",
       "<style scoped>\n",
       "    .dataframe tbody tr th:only-of-type {\n",
       "        vertical-align: middle;\n",
       "    }\n",
       "\n",
       "    .dataframe tbody tr th {\n",
       "        vertical-align: top;\n",
       "    }\n",
       "\n",
       "    .dataframe thead th {\n",
       "        text-align: right;\n",
       "    }\n",
       "</style>\n",
       "<table border=\"1\" class=\"dataframe\">\n",
       "  <thead>\n",
       "    <tr style=\"text-align: right;\">\n",
       "      <th></th>\n",
       "      <th>order_id</th>\n",
       "      <th>num_items</th>\n",
       "    </tr>\n",
       "  </thead>\n",
       "  <tbody>\n",
       "  </tbody>\n",
       "</table>\n",
       "</div>"
      ],
      "text/plain": [
       "Empty DataFrame\n",
       "Columns: [order_id, num_items]\n",
       "Index: []"
      ]
     },
     "execution_count": 8,
     "metadata": {},
     "output_type": "execute_result"
    }
   ],
   "source": [
    "df[df.num_items.isna()][[\"order_id\", \"num_items\"]]"
   ]
  },
  {
   "cell_type": "code",
   "execution_count": 9,
   "metadata": {},
   "outputs": [],
   "source": [
    "with open(\"model.dill\", \"rb\") as f:\n",
    "    model = dill.load(f)"
   ]
  },
  {
   "cell_type": "code",
   "execution_count": 10,
   "metadata": {},
   "outputs": [
    {
     "data": {
      "text/plain": [
       "array([ 244.9,   89.9])"
      ]
     },
     "execution_count": 10,
     "metadata": {},
     "output_type": "execute_result"
    }
   ],
   "source": [
    "model.predict(numpy.array([[3,92.6,109.3,2,12,26],[2,10.4,43.5,3,26,5]]))"
   ]
  },
  {
   "cell_type": "code",
   "execution_count": 11,
   "metadata": {},
   "outputs": [
    {
     "data": {
      "text/plain": [
       "244.89999999999998"
      ]
     },
     "execution_count": 11,
     "metadata": {},
     "output_type": "execute_result"
    }
   ],
   "source": [
    "sum([3,92.6,109.3,2,12,26])"
   ]
  },
  {
   "cell_type": "code",
   "execution_count": 12,
   "metadata": {},
   "outputs": [],
   "source": [
    "import dis"
   ]
  },
  {
   "cell_type": "code",
   "execution_count": 13,
   "metadata": {},
   "outputs": [
    {
     "name": "stdout",
     "output_type": "stream",
     "text": [
      "  7           0 LOAD_GLOBAL              0 (isinstance)\n",
      "              2 LOAD_FAST                1 (x)\n",
      "              4 LOAD_GLOBAL              1 (numpy)\n",
      "              6 LOAD_ATTR                2 (ndarray)\n",
      "              8 LOAD_GLOBAL              1 (numpy)\n",
      "             10 LOAD_ATTR                3 (generic)\n",
      "             12 BUILD_TUPLE              2\n",
      "             14 CALL_FUNCTION            2\n",
      "             16 POP_JUMP_IF_TRUE        26\n",
      "\n",
      "  8          18 LOAD_GLOBAL              4 (Exception)\n",
      "             20 LOAD_CONST               1 ('Input must be a numpy array')\n",
      "             22 CALL_FUNCTION            1\n",
      "             24 RAISE_VARARGS            1\n",
      "\n",
      "  9     >>   26 LOAD_FAST                1 (x)\n",
      "             28 LOAD_ATTR                5 (shape)\n",
      "             30 LOAD_CONST               2 (0)\n",
      "             32 BINARY_SUBSCR\n",
      "             34 LOAD_CONST               3 (1)\n",
      "             36 COMPARE_OP               0 (<)\n",
      "             38 POP_JUMP_IF_FALSE       48\n",
      "\n",
      " 10          40 LOAD_GLOBAL              4 (Exception)\n",
      "             42 LOAD_CONST               4 ('Input array cannot be empty')\n",
      "             44 CALL_FUNCTION            1\n",
      "             46 RAISE_VARARGS            1\n",
      "\n",
      " 11     >>   48 SETUP_EXCEPT            26 (to 76)\n",
      "\n",
      " 12          50 LOAD_FAST                1 (x)\n",
      "             52 LOAD_ATTR                5 (shape)\n",
      "             54 LOAD_CONST               3 (1)\n",
      "             56 BINARY_SUBSCR\n",
      "             58 LOAD_CONST               5 (6)\n",
      "             60 COMPARE_OP               2 (==)\n",
      "             62 POP_JUMP_IF_TRUE        72\n",
      "\n",
      " 13          64 LOAD_GLOBAL              4 (Exception)\n",
      "             66 LOAD_CONST               6 (\"Number of features of model don't match input\")\n",
      "             68 CALL_FUNCTION            1\n",
      "             70 RAISE_VARARGS            1\n",
      "        >>   72 POP_BLOCK\n",
      "             74 JUMP_FORWARD            28 (to 104)\n",
      "\n",
      " 14     >>   76 DUP_TOP\n",
      "             78 LOAD_GLOBAL              6 (IndexError)\n",
      "             80 COMPARE_OP              10 (exception match)\n",
      "             82 POP_JUMP_IF_FALSE      102\n",
      "             84 POP_TOP\n",
      "             86 POP_TOP\n",
      "             88 POP_TOP\n",
      "\n",
      " 15          90 LOAD_GLOBAL              4 (Exception)\n",
      "             92 LOAD_CONST               7 ('Two-dimensional numpy array is expected')\n",
      "             94 CALL_FUNCTION            1\n",
      "             96 RAISE_VARARGS            1\n",
      "             98 POP_EXCEPT\n",
      "            100 JUMP_FORWARD             2 (to 104)\n",
      "        >>  102 END_FINALLY\n",
      "\n",
      " 16     >>  104 LOAD_GLOBAL              1 (numpy)\n",
      "            106 LOAD_ATTR                7 (sum)\n",
      "            108 LOAD_FAST                1 (x)\n",
      "            110 LOAD_CONST               3 (1)\n",
      "            112 LOAD_CONST               8 (('axis',))\n",
      "            114 CALL_FUNCTION_KW         2\n",
      "            116 RETURN_VALUE\n"
     ]
    }
   ],
   "source": [
    "dis.dis(model.predict)"
   ]
  },
  {
   "cell_type": "code",
   "execution_count": 14,
   "metadata": {},
   "outputs": [],
   "source": [
    "max_items_per_customer = df.groupby(\"customer_id\")[\"num_items\"].max()"
   ]
  },
  {
   "cell_type": "code",
   "execution_count": 15,
   "metadata": {},
   "outputs": [],
   "source": [
    "max_revenue_per_customer = df.groupby(\"customer_id\")[\"revenue\"].max()"
   ]
  },
  {
   "cell_type": "code",
   "execution_count": 16,
   "metadata": {},
   "outputs": [],
   "source": [
    "total_revenue_per_customer = df.groupby(\"customer_id\")[\"revenue\"].sum()"
   ]
  },
  {
   "cell_type": "code",
   "execution_count": 17,
   "metadata": {},
   "outputs": [],
   "source": [
    "total_number_of_orders_per_customer = df.groupby(\"customer_id\")[\"order_id\"].count()"
   ]
  },
  {
   "cell_type": "code",
   "execution_count": 18,
   "metadata": {},
   "outputs": [],
   "source": [
    "last_order_date_per_customer = df.groupby(\"customer_id\")[\"created_at_date\"].max()"
   ]
  },
  {
   "cell_type": "code",
   "execution_count": 19,
   "metadata": {},
   "outputs": [],
   "source": [
    "from datetime import datetime\n",
    "current_date = datetime(2017,10,17)"
   ]
  },
  {
   "cell_type": "code",
   "execution_count": 20,
   "metadata": {},
   "outputs": [],
   "source": [
    "days_since_last_order_per_customer = last_order_date_per_customer.apply(lambda x: (current_date - x).days)"
   ]
  },
  {
   "cell_type": "code",
   "execution_count": 21,
   "metadata": {},
   "outputs": [],
   "source": [
    "order_dates_per_customer = df.groupby(\"customer_id\")[\"created_at_date\"].aggregate(lambda x: tuple(x))"
   ]
  },
  {
   "cell_type": "code",
   "execution_count": 22,
   "metadata": {},
   "outputs": [],
   "source": [
    "def get_longest_interval(order_dates):\n",
    "    if len(order_dates) <= 1:\n",
    "        return numpy.nan\n",
    "\n",
    "    intervals = []\n",
    "    order_dates = sorted(order_dates)\n",
    "    for i in range(len(order_dates) - 1):\n",
    "        od1 = order_dates[i]\n",
    "        od2 = order_dates[i + 1]\n",
    "        interval = (od2 - od1).days\n",
    "        intervals.append(interval)\n",
    "\n",
    "    return max(intervals)"
   ]
  },
  {
   "cell_type": "code",
   "execution_count": 23,
   "metadata": {},
   "outputs": [],
   "source": [
    "longest_interval_per_customer = order_dates_per_customer.apply(get_longest_interval)"
   ]
  },
  {
   "cell_type": "code",
   "execution_count": 24,
   "metadata": {},
   "outputs": [],
   "source": [
    "result = pd.concat([\n",
    "    max_items_per_customer, \n",
    "    max_revenue_per_customer, \n",
    "    total_revenue_per_customer, \n",
    "    total_number_of_orders_per_customer,\n",
    "    days_since_last_order_per_customer,\n",
    "    longest_interval_per_customer,\n",
    "], axis=1, keys=[\"max_items\", \"max_rev\", \"total_rev\", \"total_num_orders\", \"days_since_last_order\", \"longest_interval\"])"
   ]
  },
  {
   "cell_type": "code",
   "execution_count": 25,
   "metadata": {},
   "outputs": [],
   "source": [
    "avg_longest_interval = result.longest_interval.mean()"
   ]
  },
  {
   "cell_type": "code",
   "execution_count": 26,
   "metadata": {},
   "outputs": [],
   "source": [
    "pd.options.mode.chained_assignment = None"
   ]
  },
  {
   "cell_type": "code",
   "execution_count": 27,
   "metadata": {},
   "outputs": [],
   "source": [
    "result.longest_interval[result.longest_interval.isna()] = result.days_since_last_order[result.longest_interval.isna()] + avg_longest_interval"
   ]
  },
  {
   "cell_type": "code",
   "execution_count": 28,
   "metadata": {},
   "outputs": [],
   "source": [
    "result[\"predicted_clv\"] = model.predict(result.values)"
   ]
  },
  {
   "cell_type": "code",
   "execution_count": 29,
   "metadata": {},
   "outputs": [
    {
     "data": {
      "text/plain": [
       "124.78989459555484"
      ]
     },
     "execution_count": 29,
     "metadata": {},
     "output_type": "execute_result"
    }
   ],
   "source": [
    "result.loc[\"000011265b8a3727c4cc77b494134aca\"][\"predicted_clv\"]"
   ]
  },
  {
   "cell_type": "code",
   "execution_count": 30,
   "metadata": {},
   "outputs": [],
   "source": [
    "result.to_csv(\"predicted_clv.csv\")"
   ]
  },
  {
   "cell_type": "code",
   "execution_count": null,
   "metadata": {},
   "outputs": [],
   "source": []
  }
 ],
 "metadata": {
  "kernelspec": {
   "display_name": "Python 3",
   "language": "python",
   "name": "python3"
  },
  "language_info": {
   "codemirror_mode": {
    "name": "ipython",
    "version": 3
   },
   "file_extension": ".py",
   "mimetype": "text/x-python",
   "name": "python",
   "nbconvert_exporter": "python",
   "pygments_lexer": "ipython3",
   "version": "3.6.3"
  }
 },
 "nbformat": 4,
 "nbformat_minor": 2
}
